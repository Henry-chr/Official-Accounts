{
 "cells": [
  {
   "cell_type": "markdown",
   "metadata": {},
   "source": [
    "    电脑用时间长了桌面各种软件、工具杂乱不堪，虽然不是处女座但秉着一个有追求的程序猿，怎么也得整点高逼格的。\n",
    "    分享下我一直在用的桌面快捷方式处理办法，清空你的桌面，告别双击。"
   ]
  },
  {
   "cell_type": "markdown",
   "metadata": {},
   "source": [
    "# 效果展示"
   ]
  },
  {
   "cell_type": "markdown",
   "metadata": {},
   "source": [
    "<video height=\"400px\" width=\"500px\" src=\"https://github.com/Henry-chr/Official-Accounts/raw/main/%E7%A8%8B%E5%BA%8F%E7%8C%BF%E7%9A%84%E5%90%91%E5%BE%80/%E5%B0%8F%E6%8A%80%E5%B7%A7/%E4%B8%80%E9%94%AE%E5%90%AF%E5%8A%A8/media/%E4%B8%80%E9%94%AE%E5%90%AF%E5%8A%A8.mp4\" controls=\"controls\"></video>"
   ]
  },
  {
   "cell_type": "markdown",
   "metadata": {},
   "source": [
    "# 操作步骤"
   ]
  },
  {
   "cell_type": "markdown",
   "metadata": {},
   "source": [
    "1. 新建文件夹：选择我的电脑在其中一个硬盘中右键点击新建文件夹用来存放桌面快捷方式\n",
    "\n",
    "![新建文件夹](https://raw.githubusercontent.com/Henry-chr/Official-Accounts/main/%E7%A8%8B%E5%BA%8F%E7%8C%BF%E7%9A%84%E5%90%91%E5%BE%80/%E5%B0%8F%E6%8A%80%E5%B7%A7/%E4%B8%80%E9%94%AE%E5%90%AF%E5%8A%A8/media/%E6%96%B0%E5%BB%BA%E6%96%87%E4%BB%B6%E5%A4%B9.png)\n",
    "2. 存储快捷方式：将桌面软件的快捷方式拖到刚创建的文件夹中同时可以对快捷方式重命名\n",
    "\n",
    "![存储快捷方式](https://raw.githubusercontent.com/Henry-chr/Official-Accounts/main/%E7%A8%8B%E5%BA%8F%E7%8C%BF%E7%9A%84%E5%90%91%E5%BE%80/%E5%B0%8F%E6%8A%80%E5%B7%A7/%E4%B8%80%E9%94%AE%E5%90%AF%E5%8A%A8/media/%E9%87%8D%E5%91%BD%E5%90%8D.png)\n",
    "3. 环境变量：找到我的电脑右键选择“属性”在属性中选择“高级系统设置-高级-环境变量”\n",
    "\n",
    "![环境变量](https://raw.githubusercontent.com/Henry-chr/Official-Accounts/main/%E7%A8%8B%E5%BA%8F%E7%8C%BF%E7%9A%84%E5%90%91%E5%BE%80/%E5%B0%8F%E6%8A%80%E5%B7%A7/%E4%B8%80%E9%94%AE%E5%90%AF%E5%8A%A8/media/%E7%8E%AF%E5%A2%83%E5%8F%98%E9%87%8F.png)\n",
    "4. 设置环境变量：在环境变量中找到“系统变量”中的“path”进行编辑，在编辑界面中新建并输入创建的文件夹地址确定即可\n",
    "\n",
    "![设置环境变量](https://raw.githubusercontent.com/Henry-chr/Official-Accounts/main/%E7%A8%8B%E5%BA%8F%E7%8C%BF%E7%9A%84%E5%90%91%E5%BE%80/%E5%B0%8F%E6%8A%80%E5%B7%A7/%E4%B8%80%E9%94%AE%E5%90%AF%E5%8A%A8/media/%E6%B7%BB%E5%8A%A0%E7%8E%AF%E5%A2%83%E5%8F%98%E9%87%8F.png)\n",
    "5. 最后按住\"win+r\"打开运行窗口，在窗口中输入文件夹中快捷方式的名字之后回车即可打开该应用程序\n",
    "\n",
    "![运行](https://raw.githubusercontent.com/Henry-chr/Official-Accounts/main/%E7%A8%8B%E5%BA%8F%E7%8C%BF%E7%9A%84%E5%90%91%E5%BE%80/%E5%B0%8F%E6%8A%80%E5%B7%A7/%E4%B8%80%E9%94%AE%E5%90%AF%E5%8A%A8/media/%E8%BF%90%E8%A1%8C.png)"
   ]
  },
  {
   "cell_type": "markdown",
   "metadata": {},
   "source": [
    "# 系统环境"
   ]
  },
  {
   "cell_type": "markdown",
   "metadata": {},
   "source": [
    "    Win10/Win7 亲测"
   ]
  }
 ],
 "metadata": {
  "kernelspec": {
   "display_name": "Python 3",
   "language": "python",
   "name": "python3"
  },
  "language_info": {
   "codemirror_mode": {
    "name": "ipython",
    "version": 3
   },
   "file_extension": ".py",
   "mimetype": "text/x-python",
   "name": "python",
   "nbconvert_exporter": "python",
   "pygments_lexer": "ipython3",
   "version": "3.8.1"
  },
  "latex_envs": {
   "LaTeX_envs_menu_present": true,
   "autoclose": false,
   "autocomplete": true,
   "bibliofile": "biblio.bib",
   "cite_by": "apalike",
   "current_citInitial": 1,
   "eqLabelWithNumbers": true,
   "eqNumInitial": 1,
   "hotkeys": {
    "equation": "Ctrl-E",
    "itemize": "Ctrl-I"
   },
   "labels_anchors": false,
   "latex_user_defs": false,
   "report_style_numbering": false,
   "user_envs_cfg": false
  },
  "toc": {
   "base_numbering": 1,
   "nav_menu": {},
   "number_sections": true,
   "sideBar": true,
   "skip_h1_title": false,
   "title_cell": "Table of Contents",
   "title_sidebar": "一键启动",
   "toc_cell": false,
   "toc_position": {},
   "toc_section_display": true,
   "toc_window_display": true
  },
  "varInspector": {
   "cols": {
    "lenName": 16,
    "lenType": 16,
    "lenVar": 40
   },
   "kernels_config": {
    "python": {
     "delete_cmd_postfix": "",
     "delete_cmd_prefix": "del ",
     "library": "var_list.py",
     "varRefreshCmd": "print(var_dic_list())"
    },
    "r": {
     "delete_cmd_postfix": ") ",
     "delete_cmd_prefix": "rm(",
     "library": "var_list.r",
     "varRefreshCmd": "cat(var_dic_list()) "
    }
   },
   "types_to_exclude": [
    "module",
    "function",
    "builtin_function_or_method",
    "instance",
    "_Feature"
   ],
   "window_display": false
  }
 },
 "nbformat": 4,
 "nbformat_minor": 4
}
